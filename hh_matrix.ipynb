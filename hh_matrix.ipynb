{
 "cells": [
  {
   "cell_type": "markdown",
   "metadata": {},
   "source": [
    "# Householder new proposed method improving numerical issues.\n",
    "## High order root finding polynomial iterative method\n",
    "### Author:  Raul Alvarez\n",
    "### 2020.\n",
    "#### This code is provided “as is” and any express or implied warranties, including the implied warranties of merchantability and fitness for a particular purpose are disclaimed. in no event shall pagerduty or contributors be liable for any direct, indirect, incidental, special, exemplary, or consequential damages (including, but not limited to, procurement of substitute goods or services; loss of use, data, or profits; or business interruption) sustained by you or a third party, however caused and on any theory of liability, whether in contract, strict liability, or tort arising in any way out of the use of this sample code, even if advised of the possibility of such damage."
   ]
  },
  {
   "cell_type": "code",
   "execution_count": 20,
   "metadata": {},
   "outputs": [],
   "source": [
    "import numpy as np"
   ]
  },
  {
   "cell_type": "code",
   "execution_count": 21,
   "metadata": {},
   "outputs": [],
   "source": [
    "def CombMatrix(N): \n",
    "    C = np.zeros((N+1,N+1), dtype=np.complex)\n",
    "    C[0,0] = 1\n",
    "    for k in range(1,N+1):\n",
    "        C[k,:] = C[k-1,:]\n",
    "        C[k,1:] += C[k-1,:-1]\n",
    "    return C"
   ]
  },
  {
   "cell_type": "code",
   "execution_count": 22,
   "metadata": {},
   "outputs": [],
   "source": [
    "def Wmatrix(N,V,x): \n",
    "    W = np.zeros((N+1,N+1), dtype=np.complex) \n",
    "    C = CombMatrix(N)\n",
    "    W[0,0] = 1    \n",
    "    v = np.zeros((N+1,),dtype=np.complex) \n",
    "    v[0] = np.polyval(V,x)\n",
    "    vp = V\n",
    "    for k in range(1, N+1):\n",
    "        vp = np.polyder(vp)\n",
    "        if vp.shape[0] > 0:\n",
    "            v[k] = np.polyval(vp,x)\n",
    "        else: \n",
    "            break      \n",
    "    for k in range(1,N+1):\n",
    "        for j in range(0, N+1-k): #-k para no rellenar la matriz con valores innecesarios                                    \n",
    "            W[k,j] = np.dot(W[k-1,1:(j+2)],v[0:(j+1)][::-1]*C[j,0:(j+1)])\n",
    "            W[k,j] -= (k)*np.dot(W[k-1,0:(j+1)],v[1:(j+2)][::-1]*C[j,0:(j+1)])        \n",
    "    return W"
   ]
  },
  {
   "cell_type": "code",
   "execution_count": 23,
   "metadata": {},
   "outputs": [
    {
     "name": "stdout",
     "output_type": "stream",
     "text": [
      "k: 0,\t x: (1.764660046788777+1.94554811309426j), error: 1.209782220234433\n",
      "k: 1,\t x: (1.4130825008434686+1.4206503187962705j), error: 0.6317629818783465\n",
      "k: 2,\t x: (1.4142135623730951+1.4142135623730956j), error: 0.006535375538948317\n",
      "k: 3,\t x: (1.414213562373095+1.4142135623730951j), error: 4.965068306494546e-16\n"
     ]
    }
   ],
   "source": [
    "P = np.array([1,0,0,0,15,0,0,0,-16],dtype=np.complex)\n",
    "N = 6 \n",
    "x0  = 1.01+1j\n",
    "x = x0 \n",
    "niter = 0 \n",
    "errmax = 1e-6; \n",
    "maxiters = 100\n",
    "err = 1.0 \n",
    "while (err > errmax) and (niter < maxiters): \n",
    "    W = Wmatrix(N,P,x)\n",
    "    x = x+N*np.polyval(P,x)*W[-2,0]/W[-1,0]\n",
    "    err = abs(x-x0)\n",
    "    print(f\"k: {niter},\\t x: {x}, error: {err}\")\n",
    "    x0 = x\n",
    "    niter += 1; "
   ]
  }
 ],
 "metadata": {
  "kernelspec": {
   "display_name": "Python 3",
   "language": "python",
   "name": "python3"
  },
  "language_info": {
   "codemirror_mode": {
    "name": "ipython",
    "version": 3
   },
   "file_extension": ".py",
   "mimetype": "text/x-python",
   "name": "python",
   "nbconvert_exporter": "python",
   "pygments_lexer": "ipython3",
   "version": "3.7.4"
  }
 },
 "nbformat": 4,
 "nbformat_minor": 2
}
